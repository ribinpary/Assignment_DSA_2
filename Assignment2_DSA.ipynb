{
 "cells": [
  {
   "cell_type": "markdown",
   "id": "b0cab56a",
   "metadata": {},
   "source": [
    "# QUESTION_1"
   ]
  },
  {
   "cell_type": "code",
   "execution_count": 3,
   "id": "c946e583",
   "metadata": {},
   "outputs": [
    {
     "name": "stdout",
     "output_type": "stream",
     "text": [
      "Original Linked List:\n",
      "1 -> 2 -> -3 -> 3 -> 1 -> None\n",
      "Linked List after deleting elements with zero sum:\n",
      "3 -> 1 -> None\n"
     ]
    }
   ],
   "source": [
    "class ListNode:\n",
    "    def __init__(self, val=0, next=None):\n",
    "        self.val = val\n",
    "        self.next = next\n",
    "\n",
    "def delete_zero_sum(head):\n",
    "    prefix_sum = 0\n",
    "    seen = {}\n",
    "    dummy = ListNode(0)\n",
    "    dummy.next = head\n",
    "    current = dummy\n",
    "    \n",
    "    while current:\n",
    "        prefix_sum += current.val\n",
    "        \n",
    "        if prefix_sum in seen:\n",
    "            to_remove = seen[prefix_sum].next\n",
    "            temp = prefix_sum + to_remove.val\n",
    "            while temp != prefix_sum:\n",
    "                del seen[temp]\n",
    "                to_remove = to_remove.next\n",
    "                temp += to_remove.val\n",
    "            seen[prefix_sum].next = current.next\n",
    "        else:\n",
    "            seen[prefix_sum] = current\n",
    "        current = current.next\n",
    "    return dummy.next\n",
    "\n",
    "head = ListNode(1)\n",
    "head.next = ListNode(2)\n",
    "head.next.next = ListNode(-3)\n",
    "head.next.next.next = ListNode(3)\n",
    "head.next.next.next.next = ListNode(1)\n",
    "\n",
    "print(\"Original Linked List:\")\n",
    "current = head\n",
    "while current:\n",
    "    print(current.val, end=\" -> \")\n",
    "    current = current.next\n",
    "print(\"None\")\n",
    "\n",
    "new_head = delete_zero_sum(head)\n",
    "\n",
    "print(\"Linked List after deleting elements with zero sum:\")\n",
    "current = new_head\n",
    "while current:\n",
    "    print(current.val, end=\" -> \")\n",
    "    current = current.next\n",
    "print(\"None\")\n"
   ]
  },
  {
   "cell_type": "markdown",
   "id": "6c98b0f9",
   "metadata": {},
   "source": [
    "# QUESTION_2"
   ]
  },
  {
   "cell_type": "code",
   "execution_count": 6,
   "id": "9a2db783",
   "metadata": {},
   "outputs": [
    {
     "name": "stdout",
     "output_type": "stream",
     "text": [
      "Original Linked List:\n",
      "1 -> 2 -> 3 -> 4 -> 5 -> 6 -> 7 -> 8 -> None\n",
      "Linked List after reversing in groups of 3:\n",
      "3 -> 2 -> 1 -> 6 -> 5 -> 4 -> 7 -> 8 -> None\n"
     ]
    }
   ],
   "source": [
    "class ListNode:\n",
    "    def __init__(self, val=0, next=None):\n",
    "        self.val = val\n",
    "        self.next = next\n",
    "\n",
    "def reverse_in_groups(head, k):\n",
    "    prev = None\n",
    "    current = head\n",
    "    count = 0\n",
    "    \n",
    "    while current is not None and count < k:\n",
    "        current = current.next\n",
    "        count += 1\n",
    "    \n",
    "    if count < k:\n",
    "        return head\n",
    "    \n",
    "    current = head\n",
    "    new_head = None\n",
    "    \n",
    "    for _ in range(k):\n",
    "        next_node = current.next\n",
    "        current.next = prev\n",
    "        prev = current\n",
    "        current = next_node\n",
    "    \n",
    "    head.next = reverse_in_groups(current, k)\n",
    "    \n",
    "    return prev\n",
    "\n",
    "head = ListNode(1)\n",
    "current = head\n",
    "for i in range(2, 9):\n",
    "    current.next = ListNode(i)\n",
    "    current = current.next\n",
    "\n",
    "print(\"Original Linked List:\")\n",
    "current = head\n",
    "while current:\n",
    "    print(current.val, end=\" -> \")\n",
    "    current = current.next\n",
    "print(\"None\")\n",
    "\n",
    "new_head = reverse_in_groups(head, 3)\n",
    "\n",
    "print(\"Linked List after reversing in groups of 3:\")\n",
    "current = new_head\n",
    "while current:\n",
    "    print(current.val, end=\" -> \")\n",
    "    current = current.next\n",
    "print(\"None\")\n"
   ]
  },
  {
   "cell_type": "markdown",
   "id": "c7913733",
   "metadata": {},
   "source": [
    "# QUESTION_3"
   ]
  },
  {
   "cell_type": "code",
   "execution_count": 10,
   "id": "75983188",
   "metadata": {},
   "outputs": [
    {
     "name": "stdout",
     "output_type": "stream",
     "text": [
      "Linked List 1:\n",
      "1 -> 2 -> 3 -> None\n",
      "Linked List 2:\n",
      "4 -> 5 -> 6 -> None\n",
      "Merged Linked List at alternate positions:\n",
      "1 -> 4 -> 2 -> 5 -> 3 -> 6 -> None\n"
     ]
    }
   ],
   "source": [
    "class ListNode:\n",
    "    def __init__(self, val=0, next=None):\n",
    "        self.val = val\n",
    "        self.next = next\n",
    "\n",
    "def merge_alternate(head1, head2):\n",
    "    current1 = head1\n",
    "    current2 = head2\n",
    "    \n",
    "    while current1 is not None and current2 is not None:\n",
    "        next1 = current1.next\n",
    "        next2 = current2.next\n",
    "        \n",
    "        current1.next = current2\n",
    "        current2.next = next1\n",
    "        \n",
    "        current1 = next1\n",
    "        current2 = next2\n",
    "    \n",
    "    return head1\n",
    "\n",
    "head1 = ListNode(1)\n",
    "head1.next = ListNode(2)\n",
    "head1.next.next = ListNode(3)\n",
    "\n",
    "print(\"Linked List 1:\")\n",
    "current = head1\n",
    "while current:\n",
    "    print(current.val, end=\" -> \")\n",
    "    current = current.next\n",
    "print(\"None\")\n",
    "\n",
    "head2 = ListNode(4)\n",
    "head2.next = ListNode(5)\n",
    "head2.next.next = ListNode(6)\n",
    "\n",
    "print(\"Linked List 2:\")\n",
    "current = head2\n",
    "while current:\n",
    "    print(current.val, end=\" -> \")\n",
    "    current = current.next\n",
    "print(\"None\")\n",
    "\n",
    "merged_head = merge_alternate(head1, head2)\n",
    "\n",
    "print(\"Merged Linked List at alternate positions:\")\n",
    "current = merged_head\n",
    "while current:\n",
    "    print(current.val, end=\" -> \")\n",
    "    current = current.next\n",
    "print(\"None\")\n"
   ]
  },
  {
   "cell_type": "markdown",
   "id": "5c939a74",
   "metadata": {},
   "source": [
    "# QUESTION_4"
   ]
  },
  {
   "cell_type": "code",
   "execution_count": 15,
   "id": "4c766ff6",
   "metadata": {},
   "outputs": [
    {
     "name": "stdout",
     "output_type": "stream",
     "text": [
      "Number of pairs with sum 7: 3\n"
     ]
    }
   ],
   "source": [
    "def count_pairs_with_sum(arr, target_sum):\n",
    "    seen = {}\n",
    "    count = 0\n",
    "    \n",
    "    for num in arr:\n",
    "        complement = target_sum - num\n",
    "        if complement in seen:\n",
    "            count += seen[complement]\n",
    "        seen[num] = seen.get(num, 0) + 1\n",
    "    \n",
    "    return count\n",
    "\n",
    "arr = [1, 2, 3, 4, 5, 6]\n",
    "target_sum = 7\n",
    "count = count_pairs_with_sum(arr, target_sum)\n",
    "print(f\"Number of pairs with sum {target_sum}: {count}\")\n"
   ]
  },
  {
   "cell_type": "markdown",
   "id": "a30d4459",
   "metadata": {},
   "source": [
    "# QUESTION_5"
   ]
  },
  {
   "cell_type": "code",
   "execution_count": 19,
   "id": "88555a4e",
   "metadata": {},
   "outputs": [
    {
     "name": "stdout",
     "output_type": "stream",
     "text": [
      "Duplicate elements: [2, 4]\n"
     ]
    }
   ],
   "source": [
    "def find_duplicates(arr):\n",
    "    s1 = set()\n",
    "    duplicates = []\n",
    "\n",
    "    for num in arr:\n",
    "        if num in s1:\n",
    "            duplicates.append(num)\n",
    "        s1.add(num)\n",
    "    \n",
    "    return duplicates\n",
    "\n",
    "arr = [1, 2, 2, 3, 4, 4, 5]\n",
    "duplicates = find_duplicates(arr)\n",
    "print(\"Duplicate elements:\", duplicates)\n"
   ]
  },
  {
   "cell_type": "markdown",
   "id": "7432399e",
   "metadata": {},
   "source": [
    "# QUESTION_6"
   ]
  },
  {
   "cell_type": "code",
   "execution_count": 22,
   "id": "703eb6e3",
   "metadata": {},
   "outputs": [
    {
     "name": "stdout",
     "output_type": "stream",
     "text": [
      "3th largest: 5\n",
      "3th smallest: 2\n"
     ]
    }
   ],
   "source": [
    "def kth_largest_smallest(arr, k):\n",
    "    arr.sort()\n",
    "    kth_largest = arr[-k]\n",
    "    kth_smallest = arr[k - 1]\n",
    "    return kth_largest, kth_smallest\n",
    "\n",
    "arr = [3, 1, 4, 1, 5, 9, 2, 6, 5, 3]\n",
    "k = 3\n",
    "kth_largest, kth_smallest = kth_largest_smallest(arr, k)\n",
    "print(f\"{k}th largest: {kth_largest}\")\n",
    "print(f\"{k}th smallest: {kth_smallest}\")\n"
   ]
  },
  {
   "cell_type": "markdown",
   "id": "d1bdcd60",
   "metadata": {},
   "source": [
    "# QUESTION_7"
   ]
  },
  {
   "cell_type": "code",
   "execution_count": 27,
   "id": "1b3eb91d",
   "metadata": {},
   "outputs": [
    {
     "name": "stdout",
     "output_type": "stream",
     "text": [
      "Array after moving negatives to one side: [-6, -2, -4, 3, 5, 1]\n"
     ]
    }
   ],
   "source": [
    "def move_negatives(arr):\n",
    "    left = 0\n",
    "    right = len(arr) - 1\n",
    "\n",
    "    while left <= right:\n",
    "        if arr[left] < 0 and arr[right] < 0:\n",
    "            left += 1\n",
    "        elif arr[left] >= 0 and arr[right] < 0:\n",
    "            arr[left], arr[right] = arr[right], arr[left]\n",
    "            left += 1\n",
    "            right -= 1\n",
    "        elif arr[left] >= 0 and arr[right] >= 0:\n",
    "            right -= 1\n",
    "        else:\n",
    "            left += 1\n",
    "            right -= 1\n",
    "\n",
    "    return arr\n",
    "\n",
    "arr = [1, -2, 3, -4, 5, -6]\n",
    "new_arr = move_negatives(arr)\n",
    "print(\"Array after moving negatives to one side:\", new_arr)\n"
   ]
  },
  {
   "cell_type": "markdown",
   "id": "b80e8023",
   "metadata": {},
   "source": [
    "# QUESTION_8"
   ]
  },
  {
   "cell_type": "code",
   "execution_count": 31,
   "id": "782e40b4",
   "metadata": {},
   "outputs": [
    {
     "name": "stdout",
     "output_type": "stream",
     "text": [
      "Reversed string: olleH\n"
     ]
    }
   ],
   "source": [
    "def reverse_string(string):\n",
    "    stack = []\n",
    "    for char in string:\n",
    "        stack.append(char)\n",
    "    \n",
    "    reversed_str = ''\n",
    "    while stack:\n",
    "        reversed_str += stack.pop()\n",
    "    \n",
    "    return reversed_str\n",
    "\n",
    "string = \"Hello\"\n",
    "reversed_str = reverse_string(string)\n",
    "print(\"Reversed string:\", reversed_str)\n"
   ]
  },
  {
   "cell_type": "markdown",
   "id": "9a4b51d8",
   "metadata": {},
   "source": [
    "# QUESTION_9"
   ]
  },
  {
   "cell_type": "code",
   "execution_count": 38,
   "id": "3af3d88a",
   "metadata": {},
   "outputs": [
    {
     "name": "stdout",
     "output_type": "stream",
     "text": [
      "Result of postfix expression: 11\n"
     ]
    }
   ],
   "source": [
    "def evaluate_postfix(expression):\n",
    "    stack = []\n",
    "    \n",
    "    for char in expression:\n",
    "        if char.isdigit():\n",
    "            stack.append(int(char))\n",
    "        else:\n",
    "            operand2 = stack.pop()\n",
    "            operand1 = stack.pop()\n",
    "            if char == '+':\n",
    "                stack.append(operand1 + operand2)\n",
    "            elif char == '-':\n",
    "                stack.append(operand1 - operand2)\n",
    "            elif char == '*':\n",
    "                stack.append(operand1 * operand2)\n",
    "            elif char == '/':\n",
    "                stack.append(operand1 / operand2)\n",
    "    \n",
    "    return stack[0]\n",
    "\n",
    "postfix_expression = \"23*5+\"\n",
    "result = evaluate_postfix(postfix_expression)\n",
    "print(\"Result of postfix expression:\", result)\n"
   ]
  },
  {
   "cell_type": "markdown",
   "id": "7030d97c",
   "metadata": {},
   "source": [
    "# QUESTION_10"
   ]
  },
  {
   "cell_type": "code",
   "execution_count": 42,
   "id": "f37a57a0",
   "metadata": {},
   "outputs": [
    {
     "name": "stdout",
     "output_type": "stream",
     "text": [
      "Stack 1: []\n",
      "Stack 1: [1, 2, 3]\n",
      "Dequeue: 1\n",
      "Stack 1: [4]\n",
      "Stack 2: [3, 2]\n",
      "Dequeue: 2\n"
     ]
    }
   ],
   "source": [
    "class QueueUsingStacks:\n",
    "    def __init__(self):\n",
    "        self.stack1 = []\n",
    "        self.stack2 = []\n",
    "\n",
    "    def enqueue(self, item):\n",
    "        self.stack1.append(item)\n",
    "\n",
    "    def dequeue(self):\n",
    "        if not self.stack2:\n",
    "            while self.stack1:\n",
    "                self.stack2.append(self.stack1.pop())\n",
    "        if self.stack2:\n",
    "            dequeued_item = self.stack2.pop()\n",
    "            return dequeued_item\n",
    "        else:\n",
    "            return None\n",
    "\n",
    "    def print_stack1(self):\n",
    "        print(\"Stack 1:\", self.stack1)\n",
    "\n",
    "    def print_stack2(self):\n",
    "        print(\"Stack 2:\", self.stack2)\n",
    "\n",
    "queue = QueueUsingStacks()\n",
    "\n",
    "queue.print_stack1()  \n",
    "\n",
    "queue.enqueue(1)\n",
    "queue.enqueue(2)\n",
    "queue.enqueue(3)\n",
    "\n",
    "queue.print_stack1()  \n",
    "\n",
    "print(\"Dequeue:\", queue.dequeue())  \n",
    "\n",
    "queue.enqueue(4)\n",
    "\n",
    "queue.print_stack1()  \n",
    "queue.print_stack2()  \n",
    "\n",
    "print(\"Dequeue:\", queue.dequeue())  "
   ]
  },
  {
   "cell_type": "code",
   "execution_count": null,
   "id": "0e45fd7d",
   "metadata": {},
   "outputs": [],
   "source": []
  },
  {
   "cell_type": "code",
   "execution_count": null,
   "id": "311d3565",
   "metadata": {},
   "outputs": [],
   "source": []
  }
 ],
 "metadata": {
  "kernelspec": {
   "display_name": "Python 3 (ipykernel)",
   "language": "python",
   "name": "python3"
  },
  "language_info": {
   "codemirror_mode": {
    "name": "ipython",
    "version": 3
   },
   "file_extension": ".py",
   "mimetype": "text/x-python",
   "name": "python",
   "nbconvert_exporter": "python",
   "pygments_lexer": "ipython3",
   "version": "3.10.9"
  },
  "varInspector": {
   "cols": {
    "lenName": 16,
    "lenType": 16,
    "lenVar": 40
   },
   "kernels_config": {
    "python": {
     "delete_cmd_postfix": "",
     "delete_cmd_prefix": "del ",
     "library": "var_list.py",
     "varRefreshCmd": "print(var_dic_list())"
    },
    "r": {
     "delete_cmd_postfix": ") ",
     "delete_cmd_prefix": "rm(",
     "library": "var_list.r",
     "varRefreshCmd": "cat(var_dic_list()) "
    }
   },
   "types_to_exclude": [
    "module",
    "function",
    "builtin_function_or_method",
    "instance",
    "_Feature"
   ],
   "window_display": false
  }
 },
 "nbformat": 4,
 "nbformat_minor": 5
}
